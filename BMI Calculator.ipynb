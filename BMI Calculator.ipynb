{
 "cells": [
  {
   "cell_type": "code",
   "execution_count": 14,
   "id": "f69a93a7",
   "metadata": {},
   "outputs": [
    {
     "name": "stdout",
     "output_type": "stream",
     "text": [
      "Enter you name: Anna\n",
      "Enter your weight in pounds: 110\n",
      "Enter your height in inches: 65\n",
      "18.302958579881658\n",
      "Anna you are underweight.\n"
     ]
    }
   ],
   "source": [
    "name = input('Enter you name: ')\n",
    "\n",
    "weight = int(input('Enter your weight in pounds: '))\n",
    "\n",
    "height = int(input('Enter your height in inches: '))\n",
    "\n",
    "BMI = (weight * 703) / (height * height)\n",
    "\n",
    "print(BMI)\n",
    "\n",
    "if BMI > 0:\n",
    "    if BMI < 18.5:\n",
    "        print(name + ' you are underweight.')\n",
    "    elif BMI <= 24.9:\n",
    "        print(name + ' you are normal weight.')\n",
    "    elif BMI <= 29.9:\n",
    "        print(name + ' you are overweight.')\n",
    "    elif BMI <= 34.9:\n",
    "        print(name + ' you are obese.')\n",
    "    elif BMI <= 39.9:\n",
    "        print(name + ' you are severely obese.')\n",
    "    else:\n",
    "        print(name + ' you are morbidly obese.')\n",
    "else:\n",
    "    print('Enter valid input.')"
   ]
  },
  {
   "cell_type": "code",
   "execution_count": null,
   "id": "03b55b93",
   "metadata": {},
   "outputs": [],
   "source": []
  },
  {
   "cell_type": "code",
   "execution_count": null,
   "id": "284992ad",
   "metadata": {},
   "outputs": [],
   "source": []
  },
  {
   "cell_type": "code",
   "execution_count": null,
   "id": "9c994a4b",
   "metadata": {},
   "outputs": [],
   "source": []
  },
  {
   "cell_type": "code",
   "execution_count": 4,
   "id": "1717417b",
   "metadata": {},
   "outputs": [],
   "source": [
    "#BMI = (weight in pounds x 703) / (height in inches x height in inches)"
   ]
  },
  {
   "cell_type": "code",
   "execution_count": null,
   "id": "cdf8747f",
   "metadata": {},
   "outputs": [],
   "source": [
    "Under 18.5\tUnderweight\tMinimal\n",
    "18.5 - 24.9\tNormal Weight\tMinimal\n",
    "25 - 29.9\tOverweight\tIncreased\n",
    "30 - 34.9\tObese\tHigh\n",
    "35 - 39.9\tSeverely Obese\tVery High\n",
    "40 and over\tMorbidly Obese\tExtremely High"
   ]
  },
  {
   "cell_type": "code",
   "execution_count": 13,
   "id": "26858f21",
   "metadata": {},
   "outputs": [
    {
     "name": "stdout",
     "output_type": "stream",
     "text": [
      "Anna you are underweight.\n"
     ]
    }
   ],
   "source": [
    "if BMI > 0:\n",
    "    if BMI < 18.5:\n",
    "        print(name + ' you are underweight.')\n",
    "    elif BMI <= 24.9:\n",
    "        print(name + ' you are normal weight.')\n",
    "    elif BMI <= 29.9:\n",
    "        print(name + ' you are overweight.')\n",
    "    elif BMI <= 34.9:\n",
    "        print(name + ' you are obese.')\n",
    "    elif BMI <= 39.9:\n",
    "        print(name + ' you are severely obese.')\n",
    "    else:\n",
    "        print(name + ' you are morbidly obese.')\n",
    "else:\n",
    "    print('Enter valid input.')"
   ]
  },
  {
   "cell_type": "code",
   "execution_count": null,
   "id": "9c8f0b9c",
   "metadata": {},
   "outputs": [],
   "source": []
  }
 ],
 "metadata": {
  "kernelspec": {
   "display_name": "Python 3 (ipykernel)",
   "language": "python",
   "name": "python3"
  },
  "language_info": {
   "codemirror_mode": {
    "name": "ipython",
    "version": 3
   },
   "file_extension": ".py",
   "mimetype": "text/x-python",
   "name": "python",
   "nbconvert_exporter": "python",
   "pygments_lexer": "ipython3",
   "version": "3.9.13"
  }
 },
 "nbformat": 4,
 "nbformat_minor": 5
}
